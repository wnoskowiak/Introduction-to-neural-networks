{
  "cells": [
    {
      "cell_type": "markdown",
      "metadata": {
        "colab_type": "text",
        "id": "view-in-github"
      },
      "source": [
        "<a href=\"https://colab.research.google.com/github/fdmatoz/UWIntroductiontoNeuralNetworks/blob/main/Exercises_Class_2.ipynb\" target=\"_parent\"><img src=\"https://colab.research.google.com/assets/colab-badge.svg\" alt=\"Open In Colab\"/></a>"
      ]
    },
    {
      "cell_type": "markdown",
      "metadata": {
        "id": "L1uoC5hcLlNx"
      },
      "source": [
        "# Class 2: Workbook\n",
        "\n",
        "_____\n",
        "\n",
        "Author: Daniel Matoz\n",
        "\n",
        "Student: Wojciech Noskowiak"
      ]
    },
    {
      "cell_type": "markdown",
      "metadata": {
        "id": "fRFZLgyvL_Un"
      },
      "source": [
        "## Basic Python\n",
        "\n",
        "* 1 Write a python function that ask the user for a number and print out an appropriate message to the user, depending on whether the number is even or odd.\n",
        "\n",
        "* 2 Using the folliwng list:\n",
        "\n",
        "  ``\n",
        "    a = [1, 11, 22, 1, 5, 8, 13, 21, 34, 5, 8]\n",
        "  ``\n",
        "\n",
        " a) print all the numbers smaller than 20\n",
        "\n",
        " b) print all the numbers thar are power of 2\n",
        "\n",
        "* 3 Create a function that asks the user for a number and then prints out a list of all the divisors of that number.\n",
        "\n",
        "* 4 Using only one line of code write a code that producess the following list:\n",
        "\n",
        "  ``\n",
        "  [3, 12, 27, 48, 75, 108, 147, 192, 243, 300]\n",
        "  ``\n",
        "* 5 Write a program function that takes a list and returns a new list that   contains all the elements of the first doubled.\n"
      ]
    },
    {
      "cell_type": "code",
      "execution_count": 35,
      "metadata": {
        "colab": {
          "base_uri": "https://localhost:8080/",
          "height": 35
        },
        "id": "cvQcrK6CNrye",
        "outputId": "7d644608-c41c-4389-89a9-a098afabefb8"
      },
      "outputs": [
        {
          "name": "stdout",
          "output_type": "stream",
          "text": [
            "even\n",
            "1\n",
            "11\n",
            "1\n",
            "5\n",
            "8\n",
            "13\n",
            "5\n",
            "8\n",
            "\n",
            "1\n",
            "1\n",
            "8\n",
            "8\n",
            "dupa\n",
            "2\n",
            "2\n",
            "3\n",
            "5\n",
            "[2, 2, 3, 5]\n",
            "[1, 1, 2, 2, 3, 3]\n"
          ]
        }
      ],
      "source": [
        "#1\n",
        "def oddOrEven(a):\n",
        "    if a%2==0:\n",
        "        print(\"even\")\n",
        "        return\n",
        "    print(\"odd\")\n",
        "\n",
        "oddOrEven(4)\n",
        "\n",
        "# 2\n",
        "a = [1, 11, 22, 1, 5, 8, 13, 21, 34, 5, 8]\n",
        "\n",
        "for x in a:\n",
        "    if x<20:\n",
        "        print(x)\n",
        "\n",
        "print(\"\")\n",
        "\n",
        "for x in a:\n",
        "    if x==1:\n",
        "        print(1)\n",
        "    else:\n",
        "        pows = True\n",
        "        s = x\n",
        "        while s>1:\n",
        "            if s%2 == 1:\n",
        "                pows = False\n",
        "                break\n",
        "            s = s//2\n",
        "        if pows:  print(x)\n",
        "\n",
        "# 3\n",
        "def divisors(inp):\n",
        "    a = inp\n",
        "    result = []\n",
        "    while a>1:\n",
        "        for x in range(2,a+1):\n",
        "            if a%x==0:\n",
        "                print(x)\n",
        "                a = a//x\n",
        "                result.append(x)\n",
        "                break\n",
        "    return result\n",
        "\n",
        "print(divisors(60))\n",
        "\n",
        "# 4\n",
        "\n",
        "[ 3*x**2 for x in range(1,11)]\n",
        "\n",
        "# 5\n",
        "\n",
        "def double(s):\n",
        "    return[ a for a in s for _ in [1,2]]\n",
        "\n",
        "print(double([1,2,3]))\n",
        " "
      ]
    },
    {
      "cell_type": "markdown",
      "metadata": {
        "id": "RT9U-JtVPPxq"
      },
      "source": [
        "## Numpy\n",
        "\n",
        "* 1 Import numpy using the cannonical alias *np*\n",
        "* 2 Create an array of 100 elements between [1, 15] spaced every 2 \n",
        "* 3 Consider the following code:\n",
        "\n",
        "  ``\n",
        "  np.random.random((3,4,1))\n",
        "  ``\n",
        "  What is the shape of such array? \n",
        "* 4 Create 100 random numbers between [0,1] that always replicate the same sequence (look at seed number)\n",
        "\n",
        "* 5 Calculate the dot product between the two random vectors of size 10\n",
        "* 6 Create an identity matrix of several sizes \n",
        "* 7 Create a 3x3x3 array filled with arbitrary values. \n",
        "* 8 Write a NumPy program to swap rows and columns of a given array in reverse order\n",
        "* 9 Using NumPy write a function that return the multiplication of two given matrixes\n",
        "* 10 Using Numpy write a function that returns random matrices sampled by a normal distribution.\n",
        "\n",
        "#### Extra:\n",
        "\n",
        "11 - Using Numpy write a function that returns the eigenvalues and right eigenvectors of a given square matrix"
      ]
    },
    {
      "cell_type": "code",
      "execution_count": 53,
      "metadata": {
        "colab": {
          "base_uri": "https://localhost:8080/",
          "height": 35
        },
        "id": "FGCC_d1EQdC0",
        "outputId": "1d1eaea5-eb68-4577-d546-ff57a95f3365"
      },
      "outputs": [
        {
          "name": "stdout",
          "output_type": "stream",
          "text": [
            "3\n",
            "by\n",
            "4\n",
            "by\n",
            "1\n",
            "by\n"
          ]
        }
      ],
      "source": [
        "# 1\n",
        "import numpy as np\n",
        "\n",
        "# 2\n",
        "\n",
        "np.arange(1,17,2)\n",
        "\n",
        "# 3\n",
        "\n",
        "x = np.random.random((3,4,1))\n",
        "print(len(x))\n",
        "print(\"by\")\n",
        "print(len(x[0]))\n",
        "print(\"by\")\n",
        "print(len(x[0][0]))\n",
        "print(\"by\")\n",
        "\n",
        "# 4\n",
        "np.random.seed(16)\n",
        "np.random.random((1,100))\n",
        "\n",
        "# 5\n",
        "np.dot(np.random.random((1,10)),np.random.random((10,1)))\n",
        "\n",
        "# 6\n",
        "np.identity(4)\n",
        "np.identity(7)\n",
        "np.identity(10)\n",
        "\n",
        "# 7\n",
        "np.zeros((3,3,3))\n",
        "\n",
        "# 8\n",
        "np.flip(np.transpose(np.array([[1,2],[3,4]])),axis=1)\n",
        "\n",
        "# 9\n",
        "def multMatr(a,b):\n",
        "    try:\n",
        "        return np.dot(a,b)\n",
        "    except Exception:\n",
        "        print(\"something went wrong:\")\n",
        "        print(Exception)\n",
        "\n",
        "# 10\n",
        "\n",
        "def randMat(dims = (2,3,4)):\n",
        " return np.random.normal(size = dims)\n"
      ]
    },
    {
      "cell_type": "markdown",
      "metadata": {
        "id": "ceUZh_RqS5Uc"
      },
      "source": [
        "## Matplotlib and I/O \n",
        "\n",
        "* 1 Using a combination of python and bash read the following source file: \n",
        "https://drive.google.com/file/d/1kks6P7ImexrYyO0mfIo-10sEn6_-dPUn/view?usp=sharing from the class repository.\n",
        "  Remember to use ``wget`` to retrieve the file then use the I/O functions from Numpy for loading the file. See ``numpy.loadtxt`` or ``numpy.genfromtxt``. [Documentation](https://stackoverflow.com/questions/3518778/how-do-i-read-csv-data-into-a-record-array-in-numpy)\n",
        "* 2 Import matplolib.pyplot using the cannonical alias plt\n",
        "* 3 Create a figure and plot the data from **1**.\n",
        "* 4 Add a plot title, xlabel and ylabel to the plot\n",
        "* 5 Save the plot as pdf with a resolution of 300dpi\n",
        "\n"
      ]
    },
    {
      "cell_type": "code",
      "execution_count": 71,
      "metadata": {
        "colab": {
          "base_uri": "https://localhost:8080/",
          "height": 35
        },
        "id": "_0lpO7QQbTqD",
        "outputId": "2a5425d4-fc38-4e6a-c73c-027c0be512e9"
      },
      "outputs": [
        {
          "data": {
            "image/png": "[encoded data removed]",
            "text/plain": [
              "<Figure size 432x288 with 1 Axes>"
            ]
          },
          "metadata": {
            "needs_background": "light"
          },
          "output_type": "display_data"
        }
      ],
      "source": [
        "# 1\n",
        "\"\"\"\n",
        "It's beene established that the wget command doesn't work well with the provided link\n",
        "The data was downloaded manually\n",
        "\"\"\"\n",
        "# 2\n",
        "import matplotlib.pyplot as plt\n",
        "\n",
        "# 3\n",
        "x,y = np.transpose(np.genfromtxt('data.csv', delimiter=','))\n",
        "plt.plot(x,y)\n",
        "\n",
        "# 4\n",
        "plt.title(\"a cool graph\")\n",
        "plt.xlabel(\"time\")\n",
        "plt.ylabel(\"signal\")\n",
        "\n",
        "# 5\n",
        "plt.savefig(\"cool.png\",  dpi = 300)"
      ]
    },
    {
      "cell_type": "code",
      "execution_count": null,
      "metadata": {},
      "outputs": [],
      "source": []
    }
  ],
  "metadata": {
    "colab": {
      "authorship_tag": "ABX9TyPV5kBcjIUlFWj17RFcI7O7",
      "include_colab_link": true,
      "mount_file_id": "1cmEOM0VP4MLXMOD-HjZoDcnukP6YzRvb",
      "provenance": []
    },
    "kernelspec": {
      "display_name": "Python 3.8.10 64-bit",
      "language": "python",
      "name": "python3"
    },
    "language_info": {
      "codemirror_mode": {
        "name": "ipython",
        "version": 3
      },
      "file_extension": ".py",
      "mimetype": "text/x-python",
      "name": "python",
      "nbconvert_exporter": "python",
      "pygments_lexer": "ipython3",
      "version": "3.8.10"
    },
    "vscode": {
      "interpreter": {
        "hash": "e7370f93d1d0cde622a1f8e1c04877d8463912d04d973331ad4851f04de6915a"
      }
    }
  },
  "nbformat": 4,
  "nbformat_minor": 0
}
