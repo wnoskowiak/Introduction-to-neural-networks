{
  "cells": [
    {
      "cell_type": "markdown",
      "metadata": {
        "id": "L1uoC5hcLlNx"
      },
      "source": [
        "# Class 3: Workbook\n",
        "\n",
        "_____\n",
        "\n",
        "Author: Daniel Matoz\n",
        "\n",
        "Student: __fill_your_name_here__"
      ]
    },
    {
      "cell_type": "markdown",
      "metadata": {
        "id": "2htoZ-Gk_adP"
      },
      "source": [
        "## Threshold Logic Units\n",
        "Determine the parameters of *single* threshold logic units in such a way that these units compute the following Boolean functions. In each case plot the hyperparameter space with the corresponding hyperplanes/lines.\n",
        "\n",
        "\n",
        "\n",
        "1.   $x_1\\land \\neg x_2$\n",
        "2.   $x_1\\lor  x_2$\n",
        "3.   $(x_1\\land \\neg x_2) \\lor (x_1\\lor  x_2)$\n",
        "4.   $(x_1\\land  x_2) \\lor x_3 $\n",
        "5.   $x_1 \\land  \\neg x_2 \\land x_3 $\n",
        "\n"
      ]
    },
    {
      "cell_type": "code",
      "execution_count": 34,
      "metadata": {
        "id": "6l73bJp-BeNT"
      },
      "outputs": [
        {
          "name": "stdout",
          "output_type": "stream",
          "text": [
            "0 x0 x1 dot(x,w)      y\n",
            "1  0  0        0  False\n",
            "2  1  0        1   True\n",
            "3  0  1       -1  False\n",
            "4  1  1        0  False\n"
          ]
        },
        {
          "data": {
            "image/png": "[encoded data removed]",
            "text/plain": [
              "<Figure size 432x288 with 1 Axes>"
            ]
          },
          "metadata": {
            "needs_background": "light"
          },
          "output_type": "display_data"
        },
        {
          "name": "stdout",
          "output_type": "stream",
          "text": [
            "0 x0 x1 dot(x,w)      y\n",
            "1  0  0        0  False\n",
            "2  1  0        1   True\n",
            "3  0  1        1   True\n",
            "4  1  1        2   True\n",
            "0 x0 x1 dot(x,w)      y\n",
            "1  0  0        0  False\n",
            "2  1  0        1   True\n",
            "3  0  1        1   True\n",
            "4  1  1        2   True\n",
            "0 x0 x1 x2 dot(x,w)      y\n",
            "1  0  0  0      0.0  False\n",
            "2  1  0  0      0.6  False\n",
            "3  0  1  0      0.6  False\n",
            "4  1  1  0      1.2   True\n",
            "5  0  0  1      1.1   True\n",
            "6  1  0  1      1.7   True\n",
            "7  0  1  1      1.7   True\n",
            "8  1  1  1      2.3   True\n",
            "0 x0 x1 x2 dot(x,w)      y\n",
            "1  0  0  0      0.0  False\n",
            "2  1  0  0      0.5  False\n",
            "3  0  1  0     -0.5  False\n",
            "4  1  1  0      0.0  False\n",
            "5  0  0  1      0.5  False\n",
            "6  1  0  1      1.0   True\n",
            "7  0  1  1      0.0  False\n",
            "8  1  1  1      0.5  False\n"
          ]
        },
        {
          "data": {
            "image/png": "[encoded data removed]",
            "text/plain": [
              "<Figure size 432x288 with 1 Axes>"
            ]
          },
          "metadata": {
            "needs_background": "light"
          },
          "output_type": "display_data"
        }
      ],
      "source": [
        "import pandas as pd\n",
        "from itertools import product\n",
        "import numpy as np\n",
        "import matplotlib.pyplot as plt\n",
        "\n",
        "def logical_unit(x, w, theta):\n",
        "    _sum = np.dot(x,w)\n",
        "    out = list(x)\n",
        "    out.append(_sum)\n",
        "    out.append((_sum >= theta))\n",
        "    return out\n",
        "\n",
        "def table_logical_unit(x_vec, w, theta):\n",
        "    header = [f'x{i}' for i in range(len(x_vec[0]))]\n",
        "    header.extend(('dot(x,w)', 'y'))\n",
        "    table = [header]\n",
        "    table.extend(logical_unit(x,w,theta) for x in x_vec)\n",
        "    df = pd.DataFrame(table)\n",
        "    df.columns = df.iloc[0]\n",
        "    df = df[1:]\n",
        "    #df = df.reset_index(drop=True)\n",
        "    return df\n",
        "\n",
        "def biconditional():\n",
        "    header = [\"x_1\", \"x_2\", 'y']\n",
        "    table = [header, [0, 0, True], [1, 0, False], [0, 1, False], [1, 1, True]]\n",
        "    df = pd.DataFrame(table)\n",
        "    df.columns = df.iloc[0]\n",
        "    df = df[1:]\n",
        "    #df = df.reset_index(drop=True)\n",
        "    return df\n",
        "\n",
        "x = np.arange(-0.2, 1.2, 0.01)\n",
        "\n",
        "def getY2(w,t):\n",
        "    return (t - w[0]*x)/w[1]\n",
        "\n",
        "def getY3(w,t):\n",
        "    return (t - w[0]*x - w[1]*x)/w[2]\n",
        "\n",
        "x_vec_2input = [[j,i] for i in range(2) for j in range(2)]\n",
        "x_vec_3input = [[k, j, i] for i in range(2) for j in range(2) for k in range(2)]\n",
        "\n",
        "\n",
        "\n",
        "# 1\n",
        "\n",
        "print(table_logical_unit(x_vec_2input,[1,-1],0.1))\n",
        "\n",
        "y = getY2([1,-1], 0.1)\n",
        "plt.plot(x,y)\n",
        "plt.plot([0,0,1],[0,1,1], 'd')\n",
        "plt.plot([1],[0], 'bd')\n",
        "plt.show()\n",
        "# 2\n",
        "\n",
        "print(table_logical_unit(x_vec_2input,[1,1],0.9))\n",
        "y = getY2([1,1], 0.9)\n",
        "plt.plot(x,y)\n",
        "plt.plot([0],[0], 'bd')\n",
        "plt.plot([1,0,1],[1,1,0], 'd')\n",
        "plt.show()\n",
        "\n",
        "\n",
        "# 3\n",
        "\n",
        "print(table_logical_unit(x_vec_2input,[1,1],1))\n",
        "y = getY2([1,1], 0.9)\n",
        "plt.plot(x,y)\n",
        "plt.plot([0],[0], 'bd')\n",
        "plt.plot([1,0,1],[1,1,0], 'd')\n",
        "plt.show()\n",
        "\n",
        "# 4\n",
        "\n",
        "print(table_logical_unit(x_vec_3input,[0.6,0.6,1.1],1))\n",
        "\n",
        "# 5\n",
        "\n",
        "print(table_logical_unit(x_vec_3input,[0.5,-0.5,0.5],1))\n"
      ]
    },
    {
      "cell_type": "markdown",
      "metadata": {
        "id": "yr8wPjiLBx02"
      },
      "source": [
        "## Networks of Threshold Logic Units\n",
        "\n",
        "1. Construct a neural network of threshold logic units that produces the output 1 for points $(x_1, x_2)$ inside of the triangle shown in the sketch and the output 0 for points outside. Hint: Use the biimplication problem and interpret the computations of the threshold logic units in the first layer as a coordinate transformation.\n",
        "\n",
        "2. Try to find parameters of a threshold logic unit in such a way that it computes the [Exclusive *Or*](https://en.wikipedia.org/wiki/Exclusive_or). What problem does one run into? How can one solve this problem? \n",
        "\n",
        "3. [Extra] Determine the parameters wji and $\\theta_j$ of the neural network of threshold logic units that is shown in the sketch on the right in such a way that it computes the [Exclusive *Or*](https://en.wikipedia.org/wiki/Exclusive_or) of the Boolean variables $x_1$ and $x_2$.\n",
        "\n",
        "[XOR](https://drive.google.com/file/d/1NgmaMLRdroAkI00ID9DXcenss4eWHfJk/view?usp=sharing)"
      ]
    },
    {
      "cell_type": "code",
      "execution_count": 97,
      "metadata": {},
      "outputs": [
        {
          "name": "stdout",
          "output_type": "stream",
          "text": [
            "this cannot be done, no dividing line can be drawn on the graph below to separate the points\n"
          ]
        },
        {
          "data": {
            "image/png": "[encoded data removed]",
            "text/plain": [
              "<Figure size 432x288 with 1 Axes>"
            ]
          },
          "metadata": {
            "needs_background": "light"
          },
          "output_type": "display_data"
        },
        {
          "name": "stdout",
          "output_type": "stream",
          "text": [
            "but we can define the neural network to solve the problem\n",
            "0.0\n",
            "[0.0, 0.0]\n",
            "0.0\n",
            "[1.0, 0.0]\n",
            "1.0\n",
            "[0.0, 1.0]\n",
            "1.0\n",
            "[1.0, 1.0]\n",
            "0.0\n"
          ]
        }
      ],
      "source": [
        "from matplotlib import cm\n",
        "from matplotlib.ticker import LinearLocator\n",
        "\n",
        "def neuron(x, w, theta):\n",
        "    _sum = np.dot(x,w)\n",
        "    return 1.0 if (_sum > theta) else 0.0\n",
        "\n",
        "x= np.array([3,1])\n",
        "\n",
        "\n",
        "# 1\n",
        "def logAnd(s,v):\n",
        "    return neuron(np.array([s,v]), [0.5, 0.5], 0.9)\n",
        "\n",
        "def logNeg(v):\n",
        "    return neuron(np.array([v]), [-1.0], -0.5)\n",
        "\n",
        "def triangle(x):\n",
        "    return logAnd(logAnd(logNeg(neuron(x, np.array([1.,-2.]),-1.)), logNeg(neuron(x, np.array([1.,2.]),7.))), neuron(x, np.array([1.,0.]),1.))\n",
        "\n",
        "x = np.arange(0, 4, 0.1)\n",
        "\n",
        "\n",
        "vals = [ [triangle([b,a]) for b in x] for a in x]\n",
        "\n",
        "plt.imshow(vals)\n",
        "plt.show()\n",
        "\n",
        "\n",
        "# 2\n",
        "\n",
        "print(\"this cannot be done, no dividing line can be drawn on the graph below to separate the points\")\n",
        "plt.plot([0,1],[0,1], 'd')\n",
        "plt.plot([1,0],[0,1], 'd')\n",
        "plt.show()\n",
        "print(\"but we can define the neural network to solve the problem\")\n",
        "\n",
        "# 3\n",
        "\n",
        "def exOr(s,m):\n",
        "    return neuron([neuron(np.array([s,m]),[-0.5,-0.5], -1), s, m], np.array([1.0,0.25,0.25]),1.2)\n",
        "\n",
        "x_vec_2input = [[0.0,0.0], [1.0,0.0], [0.0,1.0], [1.0,1.0]]\n",
        "\n",
        "for el in x_vec_2input:\n",
        "    print(el)\n",
        "    print(exOr(*el))\n"
      ]
    },
    {
      "cell_type": "code",
      "execution_count": null,
      "metadata": {},
      "outputs": [],
      "source": []
    }
  ],
  "metadata": {
    "colab": {
      "collapsed_sections": [],
      "provenance": []
    },
    "kernelspec": {
      "display_name": "Python 3.8.10 64-bit",
      "language": "python",
      "name": "python3"
    },
    "language_info": {
      "codemirror_mode": {
        "name": "ipython",
        "version": 3
      },
      "file_extension": ".py",
      "mimetype": "text/x-python",
      "name": "python",
      "nbconvert_exporter": "python",
      "pygments_lexer": "ipython3",
      "version": "3.8.10"
    },
    "vscode": {
      "interpreter": {
        "hash": "e7370f93d1d0cde622a1f8e1c04877d8463912d04d973331ad4851f04de6915a"
      }
    }
  },
  "nbformat": 4,
  "nbformat_minor": 0
}
