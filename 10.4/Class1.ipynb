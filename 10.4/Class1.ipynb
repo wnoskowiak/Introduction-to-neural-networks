{
 "cells": [
  {
   "cell_type": "markdown",
   "metadata": {
    "id": "qV1Sof-G_XlP"
   },
   "source": [
    "# Class 1. Introduction to Neural Networks 2022 University of Warsaw\n",
    "\n",
    "---\n",
    "Dr. Daniel Matoz\n",
    "\n",
    "\n",
    "## Google Colab\n",
    "\n",
    "Before we get started with Python, we'd like to spend a little bit of time discussing notebooks. You can write and execute Python code locally in your web browser with the help of a Jupyter notebook. Jupyter notebooks are extremely popular in the field of scientific computing due to the fact that they make it very simple to tinker with code and execute it in bits and pieces. Colab, on the other hand, is a flavor of Jupyter notebooks developed by Google. It is optimized for machine learning and data analysis and operates completely in the cloud. Colab is essentially an enhanced version of the Jupyter notebook; it is free, does not require any setup, comes preinstalled with a large number of packages, can easily be shared with the rest of the world, and benefits from free access to hardware accelerators such as GPUs.\n",
    "\n",
    "To open the tutorial in Colab and run it, click on the badge that says \"Open in Colab\".\n",
    "\n",
    "<a href=\"https://colab.research.google.com/github/fdmatoz/UWIntroductiontoNeuralNetworks/blob/main/Class1.ipynb\" target=\"_parent\"><img src=\"https://colab.research.google.com/assets/colab-badge.svg\" alt=\"Open In Colab\"/></a>\n",
    "\n",
    "\n",
    "### Working with python\n",
    "Colaboratory is built on top of [Jupyter Lab](https://jupyter.org/). Below are some examples."
   ]
  },
  {
   "cell_type": "markdown",
   "metadata": {
    "id": "-qaCKmvZA-kf"
   },
   "source": [
    "## Cells\n",
    "A notebook is a list of cells. Cells contain either explanatory text or executable code and its output. Click a cell to select it.\n",
    "\n",
    "## Code cells\n",
    "Below is a **code cell**. Once the toolbar button indicates CONNECTED, click in the cell to select it and execute the contents in the following ways:\n",
    "\n",
    "* Click the **Play icon** in the left gutter of the cell;\n",
    "* Type **Cmd/Ctrl+Enter** to run the cell in place;\n",
    "* Type **Shift+Enter** to run the cell and move focus to the next cell (adding one if none exists); or\n",
    "* Type **Alt+Enter** to run the cell and insert a new code cell immediately below it.\n",
    "\n",
    "There are additional options for running some or all cells in the **Runtime** menu.\n"
   ]
  },
  {
   "cell_type": "code",
   "execution_count": 1,
   "metadata": {
    "colab": {
     "base_uri": "https://localhost:8080/"
    },
    "id": "DqR9gOg8BJNY",
    "outputId": "98fefa58-8dc8-49d0-ab9d-85d303713a7c"
   },
   "outputs": [
    {
     "name": "stdout",
     "output_type": "stream",
     "text": [
      "a = 2\n",
      "2*a = 4\n"
     ]
    }
   ],
   "source": [
    "# Inline comment in a programming cells\n",
    "\n",
    "a = 2\n",
    "print(\"a =\", a)\n",
    "print(\"2*a =\", a*2)"
   ]
  },
  {
   "cell_type": "markdown",
   "metadata": {
    "id": "EiaJ_Q_PCLaM"
   },
   "source": []
  },
  {
   "cell_type": "markdown",
   "metadata": {
    "id": "Gw6ZDrtvCM05"
   },
   "source": [
    "## Text cells and LaTeX\n",
    "\n",
    "This is a **text cell**. You can **double-click** to edit this cell. Text cells\n",
    "use markdown syntax. To learn more, see our [markdown\n",
    "guide](/notebooks/markdown_guide.ipynb).\n",
    "\n",
    "You can also add math to text cells using [LaTeX](http://www.latex-project.org/)\n",
    "to be rendered by [MathJax](https://www.mathjax.org). Just place the statement\n",
    "within a pair of **\\$** signs. For example `$\\sqrt{3x-1}+(1+x)^2$` becomes\n",
    "$\\sqrt{3x-1}+(1+x)^2.$"
   ]
  },
  {
   "cell_type": "markdown",
   "metadata": {
    "id": "HWiKtTa7C6GI"
   },
   "source": [
    "## Integration with Drive\n",
    "\n",
    "Colaboratory is integrated with Google Drive. It allows you to share, comment, and collaborate on the same document with multiple people:\n",
    "\n",
    "* The **SHARE** button (top-right of the toolbar) allows you to share the notebook and control permissions set on it.\n",
    "\n",
    "* **File->Make a Copy** creates a copy of the notebook in Drive.\n",
    "\n",
    "* **File->Save** saves the File to Drive. **File->Save and checkpoint** pins the version so it doesn't get deleted from the revision history. \n",
    "\n",
    "* **File->Revision history** shows the notebook's revision history. "
   ]
  },
  {
   "cell_type": "markdown",
   "metadata": {
    "id": "yR-6Cg8IC9-T"
   },
   "source": [
    "### Mounting Google Drive locally into Collab\n",
    "\n",
    "The example below shows how to mount your Google Drive on your runtime using an authorization code, and how to write and read files there. \n",
    "\n",
    "This only supports reading, writing, and moving files; to programmatically modify sharing settings or other metadata, use one of the other options below.\n",
    "\n",
    "**Note:** When using the 'Mount Drive' button in the file browser, no authentication codes are necessary for notebooks that have only been edited by the current user."
   ]
  },
  {
   "cell_type": "code",
   "execution_count": 2,
   "metadata": {
    "colab": {
     "base_uri": "https://localhost:8080/"
    },
    "id": "HZ1ssTDTC86K",
    "outputId": "6c3282cd-9248-46e4-a1b6-9eef5d34d18d"
   },
   "outputs": [
    {
     "name": "stdout",
     "output_type": "stream",
     "text": [
      "Mounted at /content/gdrive\n"
     ]
    }
   ],
   "source": [
    "from google.colab import drive\n",
    "drive.mount('/content/gdrive')"
   ]
  },
  {
   "cell_type": "markdown",
   "metadata": {
    "id": "q7vXlJzVD0i3"
   },
   "source": [
    "#### Working with mounted drives as a linux file system\n",
    "\n",
    "Here is a list of basic Linux commands:\n",
    "\n",
    "1.*pwd* command\n",
    "Use the pwd command to find out the path of the current working directory (folder) you’re in"
   ]
  },
  {
   "cell_type": "code",
   "execution_count": null,
   "metadata": {
    "id": "-U1BzjXbDgM7"
   },
   "outputs": [],
   "source": [
    "!pwd"
   ]
  },
  {
   "cell_type": "markdown",
   "metadata": {
    "id": "4lNI89w4EKj-"
   },
   "source": [
    "2.*ls* command\n",
    "The ls command is used to view the contents of a directory."
   ]
  },
  {
   "cell_type": "code",
   "execution_count": null,
   "metadata": {
    "id": "r2HIGofBEHp-"
   },
   "outputs": [],
   "source": [
    "!ls"
   ]
  },
  {
   "cell_type": "markdown",
   "metadata": {
    "id": "LA1FrWKYEgmh"
   },
   "source": [
    "3.*cd* command\n",
    "To navigate through the Linux files and directories, use the cd command."
   ]
  },
  {
   "cell_type": "code",
   "execution_count": null,
   "metadata": {
    "id": "-NS9hfjiEV3i"
   },
   "outputs": [],
   "source": [
    "# move into your google drive\n",
    "%cd /content/gdrive/MyDrive\n",
    "\n",
    "# show all of the content\n",
    "!ls \n",
    "\n",
    "# go one directory up\n",
    "%cd ..\n",
    "\n",
    "# go one directory up\n",
    "%cd ..\n",
    "\n",
    "# show all of the content\n",
    "!ls"
   ]
  },
  {
   "cell_type": "markdown",
   "metadata": {
    "id": "h-TIHNuxIK5i"
   },
   "source": [
    "4.*mkdir* command\n",
    "Use mkdir command to make a new directory "
   ]
  },
  {
   "cell_type": "code",
   "execution_count": null,
   "metadata": {
    "id": "aNdqd14uEuDR"
   },
   "outputs": [],
   "source": [
    "!mkdir /content/new_folder\n",
    "\n",
    "# show all of the content\n",
    "!ls"
   ]
  },
  {
   "cell_type": "markdown",
   "metadata": {
    "id": "dezmVQHvIz0N"
   },
   "source": [
    "Just remember, that Colab is a temporary environment with an idle timeout of 90 minutes and an absolute timeout of 12 hours."
   ]
  },
  {
   "cell_type": "markdown",
   "metadata": {
    "id": "L4WGQHRTJZB0"
   },
   "source": [
    "5.*wget* command\n",
    "The Linux command line is super useful — you can even download files from the internet with the help of the wget command"
   ]
  },
  {
   "cell_type": "code",
   "execution_count": null,
   "metadata": {
    "id": "7QpBU95AIRWV"
   },
   "outputs": [],
   "source": [
    "!wget https://en.wikipedia.org/wiki/Artificial_neural_network#/media/File:Single-layer_feedforward_artificial_neural_network.png"
   ]
  },
  {
   "cell_type": "markdown",
   "metadata": {
    "id": "s2ztDlLqKgTw"
   },
   "source": [
    "6.*cp* command. Copy that file into the new folder that we just created"
   ]
  },
  {
   "cell_type": "code",
   "execution_count": 25,
   "metadata": {
    "id": "lgglQYjBIoxP"
   },
   "outputs": [],
   "source": [
    "!cp /content/Artificial_neural_network /content/new_folder"
   ]
  },
  {
   "cell_type": "markdown",
   "metadata": {
    "id": "yIseqaPwK84B"
   },
   "source": [
    "7.*rm* delete the file. **WARNING** this will delete the file permantly, use with caution."
   ]
  },
  {
   "cell_type": "code",
   "execution_count": 26,
   "metadata": {
    "id": "T3CUNQQcKvRY"
   },
   "outputs": [],
   "source": [
    "!rm /content/Artificial_neural_network"
   ]
  },
  {
   "cell_type": "markdown",
   "metadata": {
    "id": "UyjPIGAHLOBR"
   },
   "source": [
    "8.*rm -r* delete the folder that we created. **WARNING** this will delete the file permantly, use with caution."
   ]
  },
  {
   "cell_type": "code",
   "execution_count": 27,
   "metadata": {
    "id": "5rcgPqvaLNQv"
   },
   "outputs": [],
   "source": [
    "!rm -r /content/new_folder"
   ]
  },
  {
   "cell_type": "markdown",
   "metadata": {
    "id": "5Eqo4aoJL5m3"
   },
   "source": [
    "9.*touch* create a new file."
   ]
  },
  {
   "cell_type": "code",
   "execution_count": 29,
   "metadata": {
    "id": "zzgqclKKK2Ef"
   },
   "outputs": [],
   "source": [
    "!touch /content/new_file.txt"
   ]
  },
  {
   "cell_type": "markdown",
   "metadata": {
    "id": "VOOepF25MKUF"
   },
   "source": [
    "10.*mv* move a file to your google drive."
   ]
  },
  {
   "cell_type": "code",
   "execution_count": 30,
   "metadata": {
    "id": "7lMNNPWRMSBu"
   },
   "outputs": [],
   "source": [
    "mv /content/new_file.txt /content/gdrive/MyDrive"
   ]
  },
  {
   "cell_type": "markdown",
   "metadata": {
    "id": "f7dsUxuaMoCd"
   },
   "source": [
    "11.*less* print whatever is in that file."
   ]
  },
  {
   "cell_type": "code",
   "execution_count": null,
   "metadata": {
    "id": "scOt39PRM2eq"
   },
   "outputs": [],
   "source": [
    "# download a file\n",
    "!wget https://archive.ics.uci.edu/ml/machine-learning-databases/iris/iris.data\n",
    "\n",
    "#print whatever is in that file\n",
    "!less iris.data"
   ]
  },
  {
   "cell_type": "markdown",
   "metadata": {
    "id": "zlfFLTDkPBSO"
   },
   "source": [
    "### Download file to your computer\n",
    "\n",
    "If you want to download files from the notebook to your computer use the following command. Note that in the example I'm using the iris.data file that we just downloaded."
   ]
  },
  {
   "cell_type": "code",
   "execution_count": null,
   "metadata": {
    "id": "vg_3pz0SM5BU"
   },
   "outputs": [],
   "source": [
    "from google.colab import files\n",
    "files.download('iris.data')"
   ]
  }
 ],
 "metadata": {
  "colab": {
   "authorship_tag": "ABX9TyNWboCuAdpFIOedco46iowY",
   "collapsed_sections": [],
   "include_colab_link": true,
   "provenance": [],
   "toc_visible": true
  },
  "kernelspec": {
   "display_name": "Python 3.8.10 64-bit",
   "language": "python",
   "name": "python3"
  },
  "language_info": {
   "codemirror_mode": {
    "name": "ipython",
    "version": 3
   },
   "file_extension": ".py",
   "mimetype": "text/x-python",
   "name": "python",
   "nbconvert_exporter": "python",
   "pygments_lexer": "ipython3",
   "version": "3.8.10"
  },
  "vscode": {
   "interpreter": {
    "hash": "e7370f93d1d0cde622a1f8e1c04877d8463912d04d973331ad4851f04de6915a"
   }
  }
 },
 "nbformat": 4,
 "nbformat_minor": 4
}
