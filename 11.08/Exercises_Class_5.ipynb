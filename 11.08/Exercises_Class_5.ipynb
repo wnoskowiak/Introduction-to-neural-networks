{
  "cells": [
    {
      "cell_type": "markdown",
      "metadata": {
        "colab_type": "text",
        "id": "view-in-github"
      },
      "source": [
        "<a href=\"https://colab.research.google.com/github/fdmatoz/UWIntroductiontoNeuralNetworks/blob/main/Exercises_Class_5.ipynb\" target=\"_parent\"><img src=\"https://colab.research.google.com/assets/colab-badge.svg\" alt=\"Open In Colab\"/></a>"
      ]
    },
    {
      "cell_type": "markdown",
      "metadata": {
        "id": "6YhJaSbLwJiQ"
      },
      "source": [
        "# Class 5: Workbook\n",
        "\n",
        "_____\n",
        "\n",
        "Author: Daniel Matoz\n",
        "\n",
        "Student: Wojciech Noskowiak"
      ]
    },
    {
      "cell_type": "markdown",
      "metadata": {
        "id": "N-uHOeLJwTwL"
      },
      "source": [
        "## Perceptron\n",
        "\n",
        "1. Build a generic binary classification perceptron neural network that takes a vector of features **X**, the labels *y* and the number of epochs *nb_epochs_max*. Your perceptron has to return the history error (i.e the number of misclassification per epoch) , and the decision boundary. Hint: You can use a ```python class``` to make your code more generic and clean.\n",
        "\n",
        "2. Using Pandas read the Iris dataset (url = 'https://archive.ics.uci.edu/ml/machine-learning-databases/iris/iris.data'\n",
        ") extract ```Iris-versicolor``` and ```Iris-setosa```. Hint: filter the dataset for each class and then create a new dataset by concatenate them in the same way that we did in class. Use thw following to check if your data es correct:\n",
        "```\n",
        "print(df[df['y'] == 1].count())\n",
        "print(df[df['y'] == -1].count())\n",
        "```\n",
        "you should see 50 of each\n",
        "\n",
        "3. Using the two classes create a new column with non-categorical labels, i.e, with a numeric variable ```1: Iris-versicolor``` and ```-1: Iris-setosa``` that is your label input ```y```.\n",
        "\n",
        "4. Build a generic function that separates the dataset into trainning and testing examples for each vector of features **X**, and the labels *y*. Your function has to be flexible enough to accept the trainning size and a seed number such as the trainning and test selection are reproducible. Hint: you can use Numpy random functions but be aware that a given example *i* cannot repeat in the trainning set nor in the test set. Also, if you use DataFrames you can use the mask and the .iloc options. For example, \n",
        "```\n",
        "df.iloc[[0,10]]\n",
        "```\n",
        "returns a DataFrame with the row 0 and 10. Also you can use the Pandas sample function (https://pandas.pydata.org/docs/reference/api/pandas.DataFrame.sample.html). Once that you have selected your train sample then you can filter the test by doing:\n",
        "```\n",
        "test = df.drop(index=train.index)\n",
        "```\n",
        "which will deleter all of the indices that belongs to train\n",
        "\n",
        "5. Train your perceptron to distinguish ```Iris-versicolor``` from ```Iris-setosa``` by using the first feature column (sepal length) and the third feature column (petal length). Use 80% of the dataset size for trainning and 20% for testing.\n",
        "\n",
        "#### Note: the plots are considered correct only if their axes and title are appropriately labeled.\n",
        "\n",
        "6. Plot the error vs epochs. What do you observe?\n",
        "\n",
        "7. Plot the decesion boundary for the trainning\n",
        "\n",
        "8. Test your data against the test dataset. How good does it do?\n",
        "\n",
        "9. Feature building. Now that you have the neural netowork working you can create new features by combining defined features together. Combine ```sepal length```,  ```sepal width```, ```petal length``` and  ```petal width``` to produce two new features. Train your perceptron again with the new feature and plot the results."
      ]
    },
    {
      "cell_type": "code",
      "execution_count": 279,
      "metadata": {
        "id": "Ii-guIcVNVCa"
      },
      "outputs": [],
      "source": [
        "import numpy as np\n",
        "import pandas as pd\n",
        "import matplotlib.pyplot as plt"
      ]
    },
    {
      "cell_type": "code",
      "execution_count": 280,
      "metadata": {
        "id": "bVQX9uzFNM70"
      },
      "outputs": [],
      "source": [
        "# 1\n",
        "\n",
        "class classification_network():\n",
        "\n",
        "    def __init__(self, xx, y, eta, nb_epochs_max):\n",
        "        self.epochs = nb_epochs_max\n",
        "        self.vec_of_vals = np.array([np.insert(x,0,1) for x in xx], dtype=float)\n",
        "        self.vec_of_features = np.array(y, dtype=float)\n",
        "        self.wh = np.zeros(len(self.vec_of_vals[0]), dtype=float)\n",
        "        self.eta = eta\n",
        "        self.error_hist = [0]*self.epochs\n",
        "        self.learning_subset_indexes = np.random.choice(list(range(len(self.vec_of_vals))), size=int(1*len(self.vec_of_vals)))\n",
        "        self.vali_subset_indexes = np.array(list(set(range(len(self.vec_of_vals))).difference(set(self.learning_subset_indexes))))\n",
        "        print(self.vali_subset_indexes)\n",
        "\n",
        "    def perceptron(self, i):\n",
        "        return 1 if np.dot(self.vec_of_vals[i], self.wh)>0 else 0\n",
        "\n",
        "    def get_error(self):\n",
        "        y_cal = np.array([self.perceptron(i) for i in self.vali_subset_indexes])\n",
        "        y = np.array([self.vec_of_features[i] for i in self.vali_subset_indexes])\n",
        "        temp = y_cal - y\n",
        "        return np.dot(temp,temp)\n",
        "\n",
        "    def evol(self,i):\n",
        "            y_hat = self.perceptron(i)\n",
        "            y = self.vec_of_features[i]\n",
        "            return np.array([self.eta*(y-y_hat)*xi for xi in self.vec_of_vals[i]]) \n",
        "\n",
        "\n",
        "    def run(self):\n",
        "        \n",
        "        for j in range(self.epochs):\n",
        "            for i in self.learning_subset_indexes:\n",
        "                delta_wh = self.evol(i)\n",
        "                self.wh += delta_wh\n",
        "            self.error_hist[j] = self.get_error()\n",
        "        return self.wh, self.error_hist\n",
        "          \n",
        "\n"
      ]
    },
    {
      "cell_type": "code",
      "execution_count": 281,
      "metadata": {},
      "outputs": [
        {
          "name": "stdout",
          "output_type": "stream",
          "text": [
            "    sepal length  sepal width  petal length  petal width            class  \\\n",
            "0            5.1          3.5           1.4          0.2      Iris-setosa   \n",
            "1            4.9          3.0           1.4          0.2      Iris-setosa   \n",
            "2            4.7          3.2           1.3          0.2      Iris-setosa   \n",
            "3            4.6          3.1           1.5          0.2      Iris-setosa   \n",
            "4            5.0          3.6           1.4          0.2      Iris-setosa   \n",
            "..           ...          ...           ...          ...              ...   \n",
            "95           5.7          3.0           4.2          1.2  Iris-versicolor   \n",
            "96           5.7          2.9           4.2          1.3  Iris-versicolor   \n",
            "97           6.2          2.9           4.3          1.3  Iris-versicolor   \n",
            "98           5.1          2.5           3.0          1.1  Iris-versicolor   \n",
            "99           5.7          2.8           4.1          1.3  Iris-versicolor   \n",
            "\n",
            "    classification  \n",
            "0               -1  \n",
            "1               -1  \n",
            "2               -1  \n",
            "3               -1  \n",
            "4               -1  \n",
            "..             ...  \n",
            "95               1  \n",
            "96               1  \n",
            "97               1  \n",
            "98               1  \n",
            "99               1  \n",
            "\n",
            "[100 rows x 6 columns]\n"
          ]
        }
      ],
      "source": [
        "url = 'https://archive.ics.uci.edu/ml/machine-learning-databases/iris/iris.data'\n",
        "\n",
        "header_names = [\"sepal length\", \"sepal width\", \"petal length\", \"petal width\", \"class\"]\n",
        "\n",
        "df = pd.read_csv(url, names = header_names)\n",
        "\n",
        "# Iris-versicolor\n",
        "# Iris-setosa\n",
        "\n",
        "iv = df[df[\"class\"] == \"Iris-versicolor\"]\n",
        "# iv[\"class\"] = -1\n",
        "\n",
        "iss = df[df[\"class\"] == \"Iris-setosa\"]\n",
        "# iss = iss[\"class\"] = 1\n",
        "\n",
        "df_joint = pd.concat([iss, iv])\n",
        "\n",
        "df_joint[\"classification\"] = np.where(df_joint[\"class\"] == \"Iris-setosa\", -1, 1) \n",
        "print(df_joint)\n"
      ]
    },
    {
      "cell_type": "code",
      "execution_count": 282,
      "metadata": {},
      "outputs": [
        {
          "data": {
            "text/plain": [
              "array([[5.1, 1.4],\n",
              "       [4.9, 1.4],\n",
              "       [4.7, 1.3],\n",
              "       [4.6, 1.5],\n",
              "       [5. , 1.4],\n",
              "       [5.4, 1.7],\n",
              "       [4.6, 1.4],\n",
              "       [5. , 1.5],\n",
              "       [4.4, 1.4],\n",
              "       [4.9, 1.5],\n",
              "       [5.4, 1.5],\n",
              "       [4.8, 1.6],\n",
              "       [4.8, 1.4],\n",
              "       [4.3, 1.1],\n",
              "       [5.8, 1.2],\n",
              "       [5.7, 1.5],\n",
              "       [5.4, 1.3],\n",
              "       [5.1, 1.4],\n",
              "       [5.7, 1.7],\n",
              "       [5.1, 1.5],\n",
              "       [5.4, 1.7],\n",
              "       [5.1, 1.5],\n",
              "       [4.6, 1. ],\n",
              "       [5.1, 1.7],\n",
              "       [4.8, 1.9],\n",
              "       [5. , 1.6],\n",
              "       [5. , 1.6],\n",
              "       [5.2, 1.5],\n",
              "       [5.2, 1.4],\n",
              "       [4.7, 1.6],\n",
              "       [4.8, 1.6],\n",
              "       [5.4, 1.5],\n",
              "       [5.2, 1.5],\n",
              "       [5.5, 1.4],\n",
              "       [4.9, 1.5],\n",
              "       [5. , 1.2],\n",
              "       [5.5, 1.3],\n",
              "       [4.9, 1.5],\n",
              "       [4.4, 1.3],\n",
              "       [5.1, 1.5],\n",
              "       [5. , 1.3],\n",
              "       [4.5, 1.3],\n",
              "       [4.4, 1.3],\n",
              "       [5. , 1.6],\n",
              "       [5.1, 1.9],\n",
              "       [4.8, 1.4],\n",
              "       [5.1, 1.6],\n",
              "       [4.6, 1.4],\n",
              "       [5.3, 1.5],\n",
              "       [5. , 1.4],\n",
              "       [7. , 4.7],\n",
              "       [6.4, 4.5],\n",
              "       [6.9, 4.9],\n",
              "       [5.5, 4. ],\n",
              "       [6.5, 4.6],\n",
              "       [5.7, 4.5],\n",
              "       [6.3, 4.7],\n",
              "       [4.9, 3.3],\n",
              "       [6.6, 4.6],\n",
              "       [5.2, 3.9],\n",
              "       [5. , 3.5],\n",
              "       [5.9, 4.2],\n",
              "       [6. , 4. ],\n",
              "       [6.1, 4.7],\n",
              "       [5.6, 3.6],\n",
              "       [6.7, 4.4],\n",
              "       [5.6, 4.5],\n",
              "       [5.8, 4.1],\n",
              "       [6.2, 4.5],\n",
              "       [5.6, 3.9],\n",
              "       [5.9, 4.8],\n",
              "       [6.1, 4. ],\n",
              "       [6.3, 4.9],\n",
              "       [6.1, 4.7],\n",
              "       [6.4, 4.3],\n",
              "       [6.6, 4.4],\n",
              "       [6.8, 4.8],\n",
              "       [6.7, 5. ],\n",
              "       [6. , 4.5],\n",
              "       [5.7, 3.5],\n",
              "       [5.5, 3.8],\n",
              "       [5.5, 3.7],\n",
              "       [5.8, 3.9],\n",
              "       [6. , 5.1],\n",
              "       [5.4, 4.5],\n",
              "       [6. , 4.5],\n",
              "       [6.7, 4.7],\n",
              "       [6.3, 4.4],\n",
              "       [5.6, 4.1],\n",
              "       [5.5, 4. ],\n",
              "       [5.5, 4.4],\n",
              "       [6.1, 4.6],\n",
              "       [5.8, 4. ],\n",
              "       [5. , 3.3],\n",
              "       [5.6, 4.2],\n",
              "       [5.7, 4.2],\n",
              "       [5.7, 4.2],\n",
              "       [6.2, 4.3],\n",
              "       [5.1, 3. ],\n",
              "       [5.7, 4.1]])"
            ]
          },
          "execution_count": 282,
          "metadata": {},
          "output_type": "execute_result"
        }
      ],
      "source": [
        "# print(df_joint[[\"sepal length\",\"sepal width\",\"petal length\", \"petal width\",\"classification\"]])\n",
        "vals = df_joint[\"classification\"].to_numpy()\n",
        "vecs = df_joint[[\"sepal length\",\"petal length\"]].to_numpy()\n",
        "vecs"
      ]
    },
    {
      "cell_type": "code",
      "execution_count": 283,
      "metadata": {},
      "outputs": [
        {
          "name": "stdout",
          "output_type": "stream",
          "text": [
            "[ 0  1  2  5  8 10 13 14 16 22 24 25 38 40 41 42 52 53 54 57 61 62 65 67\n",
            " 71 74 75 78 79 81 83 85 86 88 89 90 94 95 97 99]\n"
          ]
        },
        {
          "data": {
            "text/plain": [
              "[17.0, 24.0, 29.0, 25.0, 28.0, 35.0, 35.0, 36.0, 38.0, 38.0, 38.0, 38.0, 38.0]"
            ]
          },
          "execution_count": 283,
          "metadata": {},
          "output_type": "execute_result"
        }
      ],
      "source": [
        "sym = classification_network(vecs, vals, 0.2, 13)\n",
        "ws, ys = sym.run()\n",
        "ys"
      ]
    },
    {
      "cell_type": "code",
      "execution_count": 284,
      "metadata": {},
      "outputs": [
        {
          "name": "stdout",
          "output_type": "stream",
          "text": [
            "[ -46.6  -147.88  203.88]\n"
          ]
        },
        {
          "data": {
            "image/png": "[encoded data removed]",
            "text/plain": [
              "<Figure size 432x288 with 1 Axes>"
            ]
          },
          "metadata": {
            "needs_background": "light"
          },
          "output_type": "display_data"
        }
      ],
      "source": [
        "import matplotlib.pyplot as plt\n",
        "\n",
        "\n",
        "plt.scatter(vecs[:,0], vecs[:,1], c =vals)\n",
        "\n",
        "\n",
        "def line(x):\n",
        "    return (-ws[0]-x*ws[1])/ws[2]\n",
        "\n",
        "x = np.arange(4,7,0.01)\n",
        "z = line(x)\n",
        "\n",
        "\n",
        "print(ws)\n",
        "\n",
        "plt.plot(x,z)\n",
        "plt.show()"
      ]
    },
    {
      "cell_type": "markdown",
      "metadata": {
        "id": "_S9N2trfnSJf"
      },
      "source": [
        "## ADAptive LInear NEuron (Adaline) \n",
        "\n",
        "1. Build a generic binary classification Implement the ADAptive LInear NEuron (Adaline) neural network that takes a vector of features X, the labels y and the number of epochs nb_epochs_max. Your perceptron has to return the history error (i.e the Sum of Squared Errors (SSE) per epoch) , and the decision boundary. Hint: You can use a python class to make your code more generic and clean.\n",
        "\n",
        "2. Train your Adaline ANN to distinguish ```Iris-versicolor``` from ```Iris-setosa``` by using the first feature column (sepal length) and the third feature column (petal length). Use 80% of the dataset size for trainning and 20% for testing.\n",
        "\n",
        "#### Note: the plots are considered correct only if their axes and title are appropriately labeled.\n",
        "\n",
        "3. For different values of the learning rate $\\eta$, plot the error vs epochs. What do you observe?\n",
        "\n",
        "4. Test your data against the test dataset. How good does it do with respect to the perceptron?\n",
        "\n",
        "5. Implement Batch learning and compare with the online learning from 1.\n"
      ]
    },
    {
      "cell_type": "code",
      "execution_count": 285,
      "metadata": {
        "id": "evI0VtyBoPCJ"
      },
      "outputs": [],
      "source": [
        "import numpy as np\n",
        "import pandas as pd\n",
        "import matplotlib.pyplot as plt"
      ]
    },
    {
      "cell_type": "code",
      "execution_count": 296,
      "metadata": {
        "id": "4zjFycaQngkr"
      },
      "outputs": [],
      "source": [
        "# 1\n",
        "\n",
        "class adaptive_linear():\n",
        "\n",
        "    def __init__(self, xx, y, eta, nb_epochs_max):\n",
        "        self.epochs = nb_epochs_max\n",
        "        self.vec_of_vals = np.array([np.insert(x,0,1) for x in xx], dtype=float)\n",
        "        self.vec_of_features = np.array(y, dtype=float)\n",
        "        self.wh = np.zeros(len(self.vec_of_vals[0]), dtype=float)\n",
        "        self.eta = eta\n",
        "        self.error_hist = [0]*self.epochs\n",
        "        self.learning_subset_indexes = np.random.choice(list(range(len(self.vec_of_vals))), size=int(1*len(self.vec_of_vals)))\n",
        "        self.vali_subset_indexes = np.array(list(set(range(len(self.vec_of_vals))).difference(set(self.learning_subset_indexes))))\n",
        "        # print(self.vali_subset_indexes)\n",
        "\n",
        "    def psi(self, i):\n",
        "        return np.dot(self.vec_of_vals[i], self.wh)\n",
        "\n",
        "    def perceptron(self, i):\n",
        "        return 1 if np.dot(self.vec_of_vals[i], self.wh)>0 else 0\n",
        "\n",
        "    def get_error(self):\n",
        "        y_cal = np.array([(2*int(self.psi(i)>0) - 1) for i in self.vali_subset_indexes])\n",
        "        # print(self.psi_vec())\n",
        "        y = np.array([self.vec_of_features[i] for i in self.vali_subset_indexes])\n",
        "        temp = y_cal - y\n",
        "        return np.dot(temp,temp)\n",
        "\n",
        "    def psi_vec(self):\n",
        "        return np.array([self.psi(i) for i in self.learning_subset_indexes])\n",
        "    \n",
        "    def j_vec(self):\n",
        "        psi_vec = self.psi_vec()\n",
        "        temp = self.vec_of_features[self.learning_subset_indexes] - psi_vec\n",
        "        xes = np.array([[self.vec_of_vals[j][i] for j in self.learning_subset_indexes] for i in range(len(self.vec_of_vals[0]))])\n",
        "        return np.array([-np.dot(temp, x) for x in xes])\n",
        "\n",
        "\n",
        "    def run(self):\n",
        "        \n",
        "        for j in range(self.epochs):\n",
        "            self.wh -= self.eta*self.j_vec()\n",
        "            self.error_hist[j] = self.get_error()\n",
        "        return self.wh, self.error_hist\n",
        "          \n",
        "\n"
      ]
    },
    {
      "cell_type": "code",
      "execution_count": 303,
      "metadata": {},
      "outputs": [
        {
          "name": "stdout",
          "output_type": "stream",
          "text": [
            "[-0.05305169 -0.13931526  0.30360815] 0.0\n"
          ]
        },
        {
          "data": {
            "image/png": "[encoded data removed]",
            "text/plain": [
              "<Figure size 432x288 with 1 Axes>"
            ]
          },
          "metadata": {
            "needs_background": "light"
          },
          "output_type": "display_data"
        }
      ],
      "source": [
        "sym = adaptive_linear(vecs, vals, 0.0001, 40)\n",
        "ws, ys = sym.run()\n",
        "print(ws, ys[-1])\n",
        "\n",
        "plt.plot(ys, '*')\n",
        "plt.show()"
      ]
    },
    {
      "cell_type": "markdown",
      "metadata": {
        "id": "5koLJCO4ofBr"
      },
      "source": [
        "## Extra\n",
        "\n",
        "1. Consider the following activation function:\n",
        "\n",
        "$$\n",
        "\\phi(z^{(i)}) = \\frac{1}{1 + e^{-z^{(i)}}}\n",
        "$$\n",
        "with \n",
        "\n",
        "$$\n",
        "z^{(i)} = x_0\\,b^{(i)} + \\sum_{j=1}^{n_{features}}w_j^{(i)}x_j^{(i)}\n",
        "$$\n",
        "\n",
        "Ignoring the bias (i.e $b^{(i)} = 0 ∀ \\,i$), create a Logistic ADAptive LInear NEuron. \n",
        "\n",
        "2. Using the Iris dataset from before, compare the LAdaline vs. Adaline. How the erros over training epoch compare?"
      ]
    }
  ],
  "metadata": {
    "colab": {
      "authorship_tag": "ABX9TyPM48B0ahPh50rE7LSq8qc1",
      "collapsed_sections": [],
      "include_colab_link": true,
      "provenance": []
    },
    "kernelspec": {
      "display_name": "Python 3.8.10 64-bit",
      "language": "python",
      "name": "python3"
    },
    "language_info": {
      "codemirror_mode": {
        "name": "ipython",
        "version": 3
      },
      "file_extension": ".py",
      "mimetype": "text/x-python",
      "name": "python",
      "nbconvert_exporter": "python",
      "pygments_lexer": "ipython3",
      "version": "3.8.10"
    },
    "vscode": {
      "interpreter": {
        "hash": "e7370f93d1d0cde622a1f8e1c04877d8463912d04d973331ad4851f04de6915a"
      }
    }
  },
  "nbformat": 4,
  "nbformat_minor": 0
}
